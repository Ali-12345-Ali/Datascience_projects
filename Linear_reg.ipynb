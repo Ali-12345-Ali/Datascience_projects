{
 "cells": [
  {
   "cell_type": "markdown",
   "id": "84de8251",
   "metadata": {
    "papermill": {
     "duration": 0.01594,
     "end_time": "2022-09-19T17:51:28.996361",
     "exception": false,
     "start_time": "2022-09-19T17:51:28.980421",
     "status": "completed"
    },
    "tags": []
   },
   "source": [
    "___\n",
    "\n",
    "# Linear Regression for Advertising\n",
    "\n",
    "### Table of Contents\n",
    "* <a href=\"#overview\">Overview</a>\n",
    "* <a href=\"#wrangling\">Data Wrangling</a>\n",
    "* <a href=\"#cleaning\">Data Cleaning</a>\n",
    "* <a href=\"#eda\">Exploratory Data Analysis</a>\n",
    "* <a href=\"#model\">Model</a>\n",
    "* <a href=\"#testing&training\">Training & Testing</a>\n",
    "* <a href=\"#evaluation\">Model evaluation</a>\n",
    "* <a href=\"#conclusion\">Conclusion</a>"
   ]
  },
  {
   "cell_type": "markdown",
   "id": "e9541eee",
   "metadata": {
    "papermill": {
     "duration": 0.015867,
     "end_time": "2022-09-19T17:51:29.026824",
     "exception": false,
     "start_time": "2022-09-19T17:51:29.010957",
     "status": "completed"
    },
    "tags": []
   },
   "source": [
    "___\n",
    "<a id='overview'></a>\n",
    "### Overview\n",
    "We're trying to decide whether or not companies should focus their efforts and capital more on either one of TV, radio or their newspaper ads to increase their sales. We've been hired on contract to help them figure it out! Let's get started!\n"
   ]
  },
  {
   "cell_type": "markdown",
   "id": "d4e01568",
   "metadata": {
    "papermill": {
     "duration": 0.014772,
     "end_time": "2022-09-19T17:51:29.056495",
     "exception": false,
     "start_time": "2022-09-19T17:51:29.041723",
     "status": "completed"
    },
    "tags": []
   },
   "source": [
    "#### Importing and loading dependencies"
   ]
  },
  {
   "cell_type": "code",
   "execution_count": 55,
   "id": "1244c26c",
   "metadata": {
    "execution": {
     "iopub.execute_input": "2022-09-19T17:51:29.087538Z",
     "iopub.status.busy": "2022-09-19T17:51:29.087103Z",
     "iopub.status.idle": "2022-09-19T17:51:30.084793Z",
     "shell.execute_reply": "2022-09-19T17:51:30.083466Z"
    },
    "papermill": {
     "duration": 1.017546,
     "end_time": "2022-09-19T17:51:30.088548",
     "exception": false,
     "start_time": "2022-09-19T17:51:29.071002",
     "status": "completed"
    },
    "tags": []
   },
   "outputs": [],
   "source": [
    "import pandas as pd\n",
    "import numpy as np\n",
    "import matplotlib.pyplot as plt\n",
    "import seaborn as sns\n",
    "import warnings\n",
    "warnings.filterwarnings('ignore')\n",
    "%matplotlib inline"
   ]
  },
  {
   "cell_type": "markdown",
   "id": "8c9a7fcd",
   "metadata": {
    "papermill": {
     "duration": 0.014274,
     "end_time": "2022-09-19T17:51:30.117683",
     "exception": false,
     "start_time": "2022-09-19T17:51:30.103409",
     "status": "completed"
    },
    "tags": []
   },
   "source": [
    "---\n",
    "<a id=\"wrangling\"></a>\n",
    "### Data Wrangling\n",
    "\n",
    "We'll work with *Avertising* csv file. It has Advertising data with columns such as the sales made and expenditure on various ads:\n",
    "\n",
    "* **TV**: Expenses on TV ads\n",
    "* **Radio**: Expenses on Radio ads\n",
    "* **Newspaper**: Expenses on Newspaper ads\n",
    "* **Sales**: Total sales made\n",
    "\n",
    "Reading the *Advertising csv* file as a DataFrame named *df*."
   ]
  },
  {
   "cell_type": "code",
   "execution_count": 2,
   "id": "4b836efb",
   "metadata": {
    "execution": {
     "iopub.execute_input": "2022-09-19T17:51:30.148401Z",
     "iopub.status.busy": "2022-09-19T17:51:30.147729Z",
     "iopub.status.idle": "2022-09-19T17:51:30.172646Z",
     "shell.execute_reply": "2022-09-19T17:51:30.171548Z"
    },
    "papermill": {
     "duration": 0.043003,
     "end_time": "2022-09-19T17:51:30.175183",
     "exception": false,
     "start_time": "2022-09-19T17:51:30.132180",
     "status": "completed"
    },
    "tags": []
   },
   "outputs": [],
   "source": [
    "df = pd.read_csv(r\"C:\\\\Users\\\\LIYAKATH ALI\\\\Downloads\\\\advertising.csv\")"
   ]
  },
  {
   "cell_type": "markdown",
   "id": "799eaeb0",
   "metadata": {
    "papermill": {
     "duration": 0.01442,
     "end_time": "2022-09-19T17:51:30.204503",
     "exception": false,
     "start_time": "2022-09-19T17:51:30.190083",
     "status": "completed"
    },
    "tags": []
   },
   "source": [
    "*Inspecting our data*"
   ]
  },
  {
   "cell_type": "code",
   "execution_count": 3,
   "id": "936746d9",
   "metadata": {
    "execution": {
     "iopub.execute_input": "2022-09-19T17:51:30.235433Z",
     "iopub.status.busy": "2022-09-19T17:51:30.235021Z",
     "iopub.status.idle": "2022-09-19T17:51:30.255477Z",
     "shell.execute_reply": "2022-09-19T17:51:30.254446Z"
    },
    "papermill": {
     "duration": 0.03873,
     "end_time": "2022-09-19T17:51:30.257878",
     "exception": false,
     "start_time": "2022-09-19T17:51:30.219148",
     "status": "completed"
    },
    "tags": []
   },
   "outputs": [
    {
     "data": {
      "text/html": [
       "<div>\n",
       "<style scoped>\n",
       "    .dataframe tbody tr th:only-of-type {\n",
       "        vertical-align: middle;\n",
       "    }\n",
       "\n",
       "    .dataframe tbody tr th {\n",
       "        vertical-align: top;\n",
       "    }\n",
       "\n",
       "    .dataframe thead th {\n",
       "        text-align: right;\n",
       "    }\n",
       "</style>\n",
       "<table border=\"1\" class=\"dataframe\">\n",
       "  <thead>\n",
       "    <tr style=\"text-align: right;\">\n",
       "      <th></th>\n",
       "      <th>TV</th>\n",
       "      <th>Radio</th>\n",
       "      <th>Newspaper</th>\n",
       "      <th>Sales</th>\n",
       "    </tr>\n",
       "  </thead>\n",
       "  <tbody>\n",
       "    <tr>\n",
       "      <th>0</th>\n",
       "      <td>230.1</td>\n",
       "      <td>37.8</td>\n",
       "      <td>69.2</td>\n",
       "      <td>22.1</td>\n",
       "    </tr>\n",
       "    <tr>\n",
       "      <th>1</th>\n",
       "      <td>44.5</td>\n",
       "      <td>39.3</td>\n",
       "      <td>45.1</td>\n",
       "      <td>10.4</td>\n",
       "    </tr>\n",
       "    <tr>\n",
       "      <th>2</th>\n",
       "      <td>17.2</td>\n",
       "      <td>45.9</td>\n",
       "      <td>69.3</td>\n",
       "      <td>12.0</td>\n",
       "    </tr>\n",
       "    <tr>\n",
       "      <th>3</th>\n",
       "      <td>151.5</td>\n",
       "      <td>41.3</td>\n",
       "      <td>58.5</td>\n",
       "      <td>16.5</td>\n",
       "    </tr>\n",
       "    <tr>\n",
       "      <th>4</th>\n",
       "      <td>180.8</td>\n",
       "      <td>10.8</td>\n",
       "      <td>58.4</td>\n",
       "      <td>17.9</td>\n",
       "    </tr>\n",
       "  </tbody>\n",
       "</table>\n",
       "</div>"
      ],
      "text/plain": [
       "      TV  Radio  Newspaper  Sales\n",
       "0  230.1   37.8       69.2   22.1\n",
       "1   44.5   39.3       45.1   10.4\n",
       "2   17.2   45.9       69.3   12.0\n",
       "3  151.5   41.3       58.5   16.5\n",
       "4  180.8   10.8       58.4   17.9"
      ]
     },
     "execution_count": 3,
     "metadata": {},
     "output_type": "execute_result"
    }
   ],
   "source": [
    "df.head()"
   ]
  },
  {
   "cell_type": "code",
   "execution_count": 4,
   "id": "d92f6195",
   "metadata": {
    "execution": {
     "iopub.execute_input": "2022-09-19T17:51:30.289403Z",
     "iopub.status.busy": "2022-09-19T17:51:30.288664Z",
     "iopub.status.idle": "2022-09-19T17:51:30.295307Z",
     "shell.execute_reply": "2022-09-19T17:51:30.294469Z"
    },
    "papermill": {
     "duration": 0.024659,
     "end_time": "2022-09-19T17:51:30.297444",
     "exception": false,
     "start_time": "2022-09-19T17:51:30.272785",
     "status": "completed"
    },
    "tags": []
   },
   "outputs": [
    {
     "data": {
      "text/plain": [
       "(200, 4)"
      ]
     },
     "execution_count": 4,
     "metadata": {},
     "output_type": "execute_result"
    }
   ],
   "source": [
    "df.shape"
   ]
  },
  {
   "cell_type": "code",
   "execution_count": 5,
   "id": "c7e773e0",
   "metadata": {
    "execution": {
     "iopub.execute_input": "2022-09-19T17:51:30.328281Z",
     "iopub.status.busy": "2022-09-19T17:51:30.327896Z",
     "iopub.status.idle": "2022-09-19T17:51:30.358796Z",
     "shell.execute_reply": "2022-09-19T17:51:30.357752Z"
    },
    "papermill": {
     "duration": 0.049057,
     "end_time": "2022-09-19T17:51:30.361063",
     "exception": false,
     "start_time": "2022-09-19T17:51:30.312006",
     "status": "completed"
    },
    "tags": []
   },
   "outputs": [
    {
     "data": {
      "text/html": [
       "<div>\n",
       "<style scoped>\n",
       "    .dataframe tbody tr th:only-of-type {\n",
       "        vertical-align: middle;\n",
       "    }\n",
       "\n",
       "    .dataframe tbody tr th {\n",
       "        vertical-align: top;\n",
       "    }\n",
       "\n",
       "    .dataframe thead th {\n",
       "        text-align: right;\n",
       "    }\n",
       "</style>\n",
       "<table border=\"1\" class=\"dataframe\">\n",
       "  <thead>\n",
       "    <tr style=\"text-align: right;\">\n",
       "      <th></th>\n",
       "      <th>TV</th>\n",
       "      <th>Radio</th>\n",
       "      <th>Newspaper</th>\n",
       "      <th>Sales</th>\n",
       "    </tr>\n",
       "  </thead>\n",
       "  <tbody>\n",
       "    <tr>\n",
       "      <th>count</th>\n",
       "      <td>200.000000</td>\n",
       "      <td>200.000000</td>\n",
       "      <td>200.000000</td>\n",
       "      <td>200.000000</td>\n",
       "    </tr>\n",
       "    <tr>\n",
       "      <th>mean</th>\n",
       "      <td>147.042500</td>\n",
       "      <td>23.264000</td>\n",
       "      <td>30.554000</td>\n",
       "      <td>15.130500</td>\n",
       "    </tr>\n",
       "    <tr>\n",
       "      <th>std</th>\n",
       "      <td>85.854236</td>\n",
       "      <td>14.846809</td>\n",
       "      <td>21.778621</td>\n",
       "      <td>5.283892</td>\n",
       "    </tr>\n",
       "    <tr>\n",
       "      <th>min</th>\n",
       "      <td>0.700000</td>\n",
       "      <td>0.000000</td>\n",
       "      <td>0.300000</td>\n",
       "      <td>1.600000</td>\n",
       "    </tr>\n",
       "    <tr>\n",
       "      <th>25%</th>\n",
       "      <td>74.375000</td>\n",
       "      <td>9.975000</td>\n",
       "      <td>12.750000</td>\n",
       "      <td>11.000000</td>\n",
       "    </tr>\n",
       "    <tr>\n",
       "      <th>50%</th>\n",
       "      <td>149.750000</td>\n",
       "      <td>22.900000</td>\n",
       "      <td>25.750000</td>\n",
       "      <td>16.000000</td>\n",
       "    </tr>\n",
       "    <tr>\n",
       "      <th>75%</th>\n",
       "      <td>218.825000</td>\n",
       "      <td>36.525000</td>\n",
       "      <td>45.100000</td>\n",
       "      <td>19.050000</td>\n",
       "    </tr>\n",
       "    <tr>\n",
       "      <th>max</th>\n",
       "      <td>296.400000</td>\n",
       "      <td>49.600000</td>\n",
       "      <td>114.000000</td>\n",
       "      <td>27.000000</td>\n",
       "    </tr>\n",
       "  </tbody>\n",
       "</table>\n",
       "</div>"
      ],
      "text/plain": [
       "               TV       Radio   Newspaper       Sales\n",
       "count  200.000000  200.000000  200.000000  200.000000\n",
       "mean   147.042500   23.264000   30.554000   15.130500\n",
       "std     85.854236   14.846809   21.778621    5.283892\n",
       "min      0.700000    0.000000    0.300000    1.600000\n",
       "25%     74.375000    9.975000   12.750000   11.000000\n",
       "50%    149.750000   22.900000   25.750000   16.000000\n",
       "75%    218.825000   36.525000   45.100000   19.050000\n",
       "max    296.400000   49.600000  114.000000   27.000000"
      ]
     },
     "execution_count": 5,
     "metadata": {},
     "output_type": "execute_result"
    }
   ],
   "source": [
    "df.describe()"
   ]
  },
  {
   "cell_type": "code",
   "execution_count": 6,
   "id": "73c539ae",
   "metadata": {
    "execution": {
     "iopub.execute_input": "2022-09-19T17:51:30.392984Z",
     "iopub.status.busy": "2022-09-19T17:51:30.392587Z",
     "iopub.status.idle": "2022-09-19T17:51:30.407357Z",
     "shell.execute_reply": "2022-09-19T17:51:30.406059Z"
    },
    "papermill": {
     "duration": 0.03294,
     "end_time": "2022-09-19T17:51:30.409583",
     "exception": false,
     "start_time": "2022-09-19T17:51:30.376643",
     "status": "completed"
    },
    "tags": []
   },
   "outputs": [
    {
     "name": "stdout",
     "output_type": "stream",
     "text": [
      "<class 'pandas.core.frame.DataFrame'>\n",
      "RangeIndex: 200 entries, 0 to 199\n",
      "Data columns (total 4 columns):\n",
      " #   Column     Non-Null Count  Dtype  \n",
      "---  ------     --------------  -----  \n",
      " 0   TV         200 non-null    float64\n",
      " 1   Radio      200 non-null    float64\n",
      " 2   Newspaper  200 non-null    float64\n",
      " 3   Sales      200 non-null    float64\n",
      "dtypes: float64(4)\n",
      "memory usage: 6.4 KB\n"
     ]
    }
   ],
   "source": [
    "df.info()"
   ]
  },
  {
   "cell_type": "code",
   "execution_count": 7,
   "id": "30539111",
   "metadata": {
    "execution": {
     "iopub.execute_input": "2022-09-19T17:51:30.441489Z",
     "iopub.status.busy": "2022-09-19T17:51:30.440794Z",
     "iopub.status.idle": "2022-09-19T17:51:30.446893Z",
     "shell.execute_reply": "2022-09-19T17:51:30.446122Z"
    },
    "papermill": {
     "duration": 0.024277,
     "end_time": "2022-09-19T17:51:30.448812",
     "exception": false,
     "start_time": "2022-09-19T17:51:30.424535",
     "status": "completed"
    },
    "scrolled": true,
    "tags": []
   },
   "outputs": [
    {
     "data": {
      "text/plain": [
       "Index(['TV', 'Radio', 'Newspaper', 'Sales'], dtype='object')"
      ]
     },
     "execution_count": 7,
     "metadata": {},
     "output_type": "execute_result"
    }
   ],
   "source": [
    "df.columns"
   ]
  },
  {
   "cell_type": "markdown",
   "id": "02f36aa1",
   "metadata": {
    "papermill": {
     "duration": 0.014724,
     "end_time": "2022-09-19T17:51:30.478580",
     "exception": false,
     "start_time": "2022-09-19T17:51:30.463856",
     "status": "completed"
    },
    "tags": []
   },
   "source": [
    "---\n",
    "<a id=\"cleaning\"></a>\n",
    "### Data Cleaning\n"
   ]
  },
  {
   "cell_type": "markdown",
   "id": "3863cb1f",
   "metadata": {
    "papermill": {
     "duration": 0.01492,
     "end_time": "2022-09-19T17:51:30.509019",
     "exception": false,
     "start_time": "2022-09-19T17:51:30.494099",
     "status": "completed"
    },
    "tags": []
   },
   "source": [
    "*We check for **null** values*"
   ]
  },
  {
   "cell_type": "code",
   "execution_count": 8,
   "id": "e09503b0",
   "metadata": {
    "execution": {
     "iopub.execute_input": "2022-09-19T17:51:30.540715Z",
     "iopub.status.busy": "2022-09-19T17:51:30.540081Z",
     "iopub.status.idle": "2022-09-19T17:51:30.549170Z",
     "shell.execute_reply": "2022-09-19T17:51:30.548165Z"
    },
    "papermill": {
     "duration": 0.027282,
     "end_time": "2022-09-19T17:51:30.551296",
     "exception": false,
     "start_time": "2022-09-19T17:51:30.524014",
     "status": "completed"
    },
    "tags": []
   },
   "outputs": [
    {
     "data": {
      "text/plain": [
       "TV           0\n",
       "Radio        0\n",
       "Newspaper    0\n",
       "Sales        0\n",
       "dtype: int64"
      ]
     },
     "execution_count": 8,
     "metadata": {},
     "output_type": "execute_result"
    }
   ],
   "source": [
    "df.isna().sum()"
   ]
  },
  {
   "cell_type": "markdown",
   "id": "f35e49ae",
   "metadata": {
    "papermill": {
     "duration": 0.01484,
     "end_time": "2022-09-19T17:51:30.581278",
     "exception": false,
     "start_time": "2022-09-19T17:51:30.566438",
     "status": "completed"
    },
    "tags": []
   },
   "source": [
    "*We check for **duplicate** values*"
   ]
  },
  {
   "cell_type": "code",
   "execution_count": 9,
   "id": "e2ef2d8d",
   "metadata": {
    "execution": {
     "iopub.execute_input": "2022-09-19T17:51:30.613887Z",
     "iopub.status.busy": "2022-09-19T17:51:30.613495Z",
     "iopub.status.idle": "2022-09-19T17:51:30.622996Z",
     "shell.execute_reply": "2022-09-19T17:51:30.621972Z"
    },
    "papermill": {
     "duration": 0.028018,
     "end_time": "2022-09-19T17:51:30.625026",
     "exception": false,
     "start_time": "2022-09-19T17:51:30.597008",
     "status": "completed"
    },
    "tags": []
   },
   "outputs": [
    {
     "data": {
      "text/plain": [
       "0"
      ]
     },
     "execution_count": 9,
     "metadata": {},
     "output_type": "execute_result"
    }
   ],
   "source": [
    "df.duplicated().sum()"
   ]
  },
  {
   "cell_type": "markdown",
   "id": "27a13ea1",
   "metadata": {
    "papermill": {
     "duration": 0.014929,
     "end_time": "2022-09-19T17:51:30.655182",
     "exception": false,
     "start_time": "2022-09-19T17:51:30.640253",
     "status": "completed"
    },
    "tags": []
   },
   "source": [
    "---\n",
    "<a id='eda'></a>\n",
    "### Exploratory Data Analysis\n",
    "\n"
   ]
  },
  {
   "cell_type": "markdown",
   "id": "21fef06e",
   "metadata": {
    "papermill": {
     "duration": 0.015177,
     "end_time": "2022-09-19T17:51:30.685538",
     "exception": false,
     "start_time": "2022-09-19T17:51:30.670361",
     "status": "completed"
    },
    "tags": []
   },
   "source": [
    "*Setting a few style 'rules'*"
   ]
  },
  {
   "cell_type": "code",
   "execution_count": 10,
   "id": "859fbacf",
   "metadata": {
    "execution": {
     "iopub.execute_input": "2022-09-19T17:51:30.718001Z",
     "iopub.status.busy": "2022-09-19T17:51:30.717097Z",
     "iopub.status.idle": "2022-09-19T17:51:30.723910Z",
     "shell.execute_reply": "2022-09-19T17:51:30.723154Z"
    },
    "papermill": {
     "duration": 0.025314,
     "end_time": "2022-09-19T17:51:30.725997",
     "exception": false,
     "start_time": "2022-09-19T17:51:30.700683",
     "status": "completed"
    },
    "tags": []
   },
   "outputs": [],
   "source": [
    "sns.set_palette(\"GnBu_d\")\n",
    "sns.set_style('whitegrid')"
   ]
  },
  {
   "cell_type": "markdown",
   "id": "3ca508ac",
   "metadata": {
    "papermill": {
     "duration": 0.01492,
     "end_time": "2022-09-19T17:51:30.756303",
     "exception": false,
     "start_time": "2022-09-19T17:51:30.741383",
     "status": "completed"
    },
    "tags": []
   },
   "source": [
    "*First, we check for outliers that can really affect our model*"
   ]
  },
  {
   "cell_type": "code",
   "execution_count": 11,
   "id": "fe2ebf34",
   "metadata": {
    "execution": {
     "iopub.execute_input": "2022-09-19T17:51:30.788751Z",
     "iopub.status.busy": "2022-09-19T17:51:30.788378Z",
     "iopub.status.idle": "2022-09-19T17:51:31.526527Z",
     "shell.execute_reply": "2022-09-19T17:51:31.525482Z"
    },
    "papermill": {
     "duration": 0.757744,
     "end_time": "2022-09-19T17:51:31.529274",
     "exception": false,
     "start_time": "2022-09-19T17:51:30.771530",
     "status": "completed"
    },
    "tags": []
   },
   "outputs": [
    {
     "data": {
      "image/png": "[encoded data removed]",
      "text/plain": [
       "<Figure size 288x72 with 1 Axes>"
      ]
     },
     "metadata": {},
     "output_type": "display_data"
    },
    {
     "data": {
      "image/png": "[encoded data removed]",
      "text/plain": [
       "<Figure size 288x72 with 1 Axes>"
      ]
     },
     "metadata": {},
     "output_type": "display_data"
    },
    {
     "data": {
      "image/png": "[encoded data removed]",
      "text/plain": [
       "<Figure size 288x72 with 1 Axes>"
      ]
     },
     "metadata": {},
     "output_type": "display_data"
    },
    {
     "data": {
      "image/png": "[encoded data removed]",
      "text/plain": [
       "<Figure size 288x72 with 1 Axes>"
      ]
     },
     "metadata": {},
     "output_type": "display_data"
    }
   ],
   "source": [
    "for i in df:\n",
    "    plt.figure(figsize = (4,1))\n",
    "    sns.boxplot(x = df[i])\n",
    "    plt.show()"
   ]
  },
  {
   "cell_type": "markdown",
   "id": "e894780c",
   "metadata": {
    "papermill": {
     "duration": 0.015602,
     "end_time": "2022-09-19T17:51:31.561017",
     "exception": false,
     "start_time": "2022-09-19T17:51:31.545415",
     "status": "completed"
    },
    "tags": []
   },
   "source": [
    "*No such outliers observed*"
   ]
  },
  {
   "cell_type": "markdown",
   "id": "a5b7d794",
   "metadata": {
    "papermill": {
     "duration": 0.015659,
     "end_time": "2022-09-19T17:51:31.592599",
     "exception": false,
     "start_time": "2022-09-19T17:51:31.576940",
     "status": "completed"
    },
    "tags": []
   },
   "source": [
    "Next we'll create a jointplot to compare the TV and Sales columns."
   ]
  },
  {
   "cell_type": "code",
   "execution_count": 13,
   "id": "090efd70",
   "metadata": {
    "execution": {
     "iopub.execute_input": "2022-09-19T17:51:31.626255Z",
     "iopub.status.busy": "2022-09-19T17:51:31.625625Z",
     "iopub.status.idle": "2022-09-19T17:51:32.219228Z",
     "shell.execute_reply": "2022-09-19T17:51:32.218081Z"
    },
    "papermill": {
     "duration": 0.613299,
     "end_time": "2022-09-19T17:51:32.221843",
     "exception": false,
     "start_time": "2022-09-19T17:51:31.608544",
     "status": "completed"
    },
    "tags": []
   },
   "outputs": [
    {
     "data": {
      "text/plain": [
       "<seaborn.axisgrid.JointGrid at 0x21841439eb0>"
      ]
     },
     "execution_count": 13,
     "metadata": {},
     "output_type": "execute_result"
    },
    {
     "data": {
      "image/png": "[encoded data removed]",
      "text/plain": [
       "<Figure size 432x432 with 3 Axes>"
      ]
     },
     "metadata": {},
     "output_type": "display_data"
    }
   ],
   "source": [
    "sns.jointplot(x='TV',y='Sales',data=df)"
   ]
  },
  {
   "cell_type": "markdown",
   "id": "09d097e3",
   "metadata": {
    "papermill": {
     "duration": 0.016157,
     "end_time": "2022-09-19T17:51:32.255378",
     "exception": false,
     "start_time": "2022-09-19T17:51:32.239221",
     "status": "completed"
    },
    "tags": []
   },
   "source": [
    "Doing the same, but with the Radio  & Newspaper columns respectively."
   ]
  },
  {
   "cell_type": "code",
   "execution_count": 15,
   "id": "f5c38ce7",
   "metadata": {
    "execution": {
     "iopub.execute_input": "2022-09-19T17:51:32.289866Z",
     "iopub.status.busy": "2022-09-19T17:51:32.289471Z",
     "iopub.status.idle": "2022-09-19T17:51:32.858208Z",
     "shell.execute_reply": "2022-09-19T17:51:32.857176Z"
    },
    "papermill": {
     "duration": 0.588668,
     "end_time": "2022-09-19T17:51:32.860519",
     "exception": false,
     "start_time": "2022-09-19T17:51:32.271851",
     "status": "completed"
    },
    "tags": []
   },
   "outputs": [
    {
     "data": {
      "text/plain": [
       "<seaborn.axisgrid.JointGrid at 0x21846f9abb0>"
      ]
     },
     "execution_count": 15,
     "metadata": {},
     "output_type": "execute_result"
    },
    {
     "data": {
      "image/png": "[encoded data removed]",
      "text/plain": [
       "<Figure size 432x432 with 3 Axes>"
      ]
     },
     "metadata": {},
     "output_type": "display_data"
    }
   ],
   "source": [
    "sns.jointplot(x='Radio',y='Sales',data=df)"
   ]
  },
  {
   "cell_type": "code",
   "execution_count": 16,
   "id": "e930213c",
   "metadata": {
    "execution": {
     "iopub.execute_input": "2022-09-19T17:51:32.896398Z",
     "iopub.status.busy": "2022-09-19T17:51:32.895860Z",
     "iopub.status.idle": "2022-09-19T17:51:33.474331Z",
     "shell.execute_reply": "2022-09-19T17:51:33.473180Z"
    },
    "papermill": {
     "duration": 0.599257,
     "end_time": "2022-09-19T17:51:33.476831",
     "exception": false,
     "start_time": "2022-09-19T17:51:32.877574",
     "status": "completed"
    },
    "tags": []
   },
   "outputs": [
    {
     "data": {
      "text/plain": [
       "<seaborn.axisgrid.JointGrid at 0x2184719f8b0>"
      ]
     },
     "execution_count": 16,
     "metadata": {},
     "output_type": "execute_result"
    },
    {
     "data": {
      "image/png": "[encoded data removed]",
      "text/plain": [
       "<Figure size 432x432 with 3 Axes>"
      ]
     },
     "metadata": {},
     "output_type": "display_data"
    }
   ],
   "source": [
    "sns.jointplot(x='Newspaper',y='Sales',data=df)"
   ]
  },
  {
   "cell_type": "markdown",
   "id": "a7f25b55",
   "metadata": {
    "papermill": {
     "duration": 0.017391,
     "end_time": "2022-09-19T17:51:33.512328",
     "exception": false,
     "start_time": "2022-09-19T17:51:33.494937",
     "status": "completed"
    },
    "tags": []
   },
   "source": [
    "*Now to explore these features & relationships across the entire data set. Using [pairplot](https://stanford.edu/~mwaskom/software/seaborn/tutorial/axis_grids.html#plotting-pairwise-relationships-with-pairgrid-and-pairplot)**"
   ]
  },
  {
   "cell_type": "code",
   "execution_count": 56,
   "id": "a27ae544",
   "metadata": {
    "execution": {
     "iopub.execute_input": "2022-09-19T17:51:33.548773Z",
     "iopub.status.busy": "2022-09-19T17:51:33.548377Z",
     "iopub.status.idle": "2022-09-19T17:51:37.009591Z",
     "shell.execute_reply": "2022-09-19T17:51:37.008577Z"
    },
    "papermill": {
     "duration": 3.486076,
     "end_time": "2022-09-19T17:51:37.015905",
     "exception": false,
     "start_time": "2022-09-19T17:51:33.529829",
     "status": "completed"
    },
    "tags": []
   },
   "outputs": [
    {
     "data": {
      "text/plain": [
       "<seaborn.axisgrid.PairGrid at 0x2184f6de910>"
      ]
     },
     "execution_count": 56,
     "metadata": {},
     "output_type": "execute_result"
    },
    {
     "data": {
      "image/png": "[encoded data removed]",
      "text/plain": [
       "<Figure size 720x720 with 20 Axes>"
      ]
     },
     "metadata": {
      "needs_background": "light"
     },
     "output_type": "display_data"
    }
   ],
   "source": [
    "sns.pairplot(df)"
   ]
  },
  {
   "cell_type": "markdown",
   "id": "5f0806bf",
   "metadata": {
    "papermill": {
     "duration": 0.019249,
     "end_time": "2022-09-19T17:51:37.060926",
     "exception": false,
     "start_time": "2022-09-19T17:51:37.041677",
     "status": "completed"
    },
    "tags": []
   },
   "source": [
    "Plotting a univariate distribution of Sales made"
   ]
  },
  {
   "cell_type": "code",
   "execution_count": 57,
   "id": "53412fc9",
   "metadata": {
    "execution": {
     "iopub.execute_input": "2022-09-19T17:51:37.107312Z",
     "iopub.status.busy": "2022-09-19T17:51:37.106936Z",
     "iopub.status.idle": "2022-09-19T17:51:37.494243Z",
     "shell.execute_reply": "2022-09-19T17:51:37.492815Z"
    },
    "papermill": {
     "duration": 0.413174,
     "end_time": "2022-09-19T17:51:37.496892",
     "exception": false,
     "start_time": "2022-09-19T17:51:37.083718",
     "status": "completed"
    },
    "tags": []
   },
   "outputs": [
    {
     "data": {
      "text/plain": [
       "<AxesSubplot:xlabel='Sales', ylabel='Density'>"
      ]
     },
     "execution_count": 57,
     "metadata": {},
     "output_type": "execute_result"
    },
    {
     "data": {
      "image/png": "[encoded data removed]",
      "text/plain": [
       "<Figure size 432x288 with 1 Axes>"
      ]
     },
     "metadata": {
      "needs_background": "light"
     },
     "output_type": "display_data"
    }
   ],
   "source": [
    "sns.distplot(df['Sales'], bins=50)"
   ]
  },
  {
   "cell_type": "code",
   "execution_count": 58,
   "id": "60d0ab96",
   "metadata": {
    "execution": {
     "iopub.execute_input": "2022-09-19T17:51:37.539479Z",
     "iopub.status.busy": "2022-09-19T17:51:37.539065Z",
     "iopub.status.idle": "2022-09-19T17:51:37.545924Z",
     "shell.execute_reply": "2022-09-19T17:51:37.544886Z"
    },
    "papermill": {
     "duration": 0.030835,
     "end_time": "2022-09-19T17:51:37.548048",
     "exception": false,
     "start_time": "2022-09-19T17:51:37.517213",
     "status": "completed"
    },
    "tags": []
   },
   "outputs": [],
   "source": [
    "corr = df.corr()"
   ]
  },
  {
   "cell_type": "code",
   "execution_count": 20,
   "id": "db386e25",
   "metadata": {
    "execution": {
     "iopub.execute_input": "2022-09-19T17:51:37.591836Z",
     "iopub.status.busy": "2022-09-19T17:51:37.590624Z",
     "iopub.status.idle": "2022-09-19T17:51:37.913976Z",
     "shell.execute_reply": "2022-09-19T17:51:37.913191Z"
    },
    "papermill": {
     "duration": 0.347676,
     "end_time": "2022-09-19T17:51:37.916369",
     "exception": false,
     "start_time": "2022-09-19T17:51:37.568693",
     "status": "completed"
    },
    "tags": []
   },
   "outputs": [
    {
     "data": {
      "text/plain": [
       "<AxesSubplot:>"
      ]
     },
     "execution_count": 20,
     "metadata": {},
     "output_type": "execute_result"
    },
    {
     "data": {
      "image/png": "[encoded data removed]",
      "text/plain": [
       "<Figure size 720x504 with 2 Axes>"
      ]
     },
     "metadata": {},
     "output_type": "display_data"
    }
   ],
   "source": [
    "plt.figure(figsize=(10,7))\n",
    "sns.heatmap(corr, cmap='Spectral', linewidths = .2, annot=True)"
   ]
  },
  {
   "cell_type": "markdown",
   "id": "55c4490c",
   "metadata": {
    "papermill": {
     "duration": 0.021418,
     "end_time": "2022-09-19T17:51:37.960256",
     "exception": false,
     "start_time": "2022-09-19T17:51:37.938838",
     "status": "completed"
    },
    "tags": []
   },
   "source": [
    "*Based off these plots what looks to be the most correlated feature with Sales?*"
   ]
  },
  {
   "cell_type": "code",
   "execution_count": 19,
   "id": "99b57d9e",
   "metadata": {
    "execution": {
     "iopub.execute_input": "2022-09-19T17:51:38.006445Z",
     "iopub.status.busy": "2022-09-19T17:51:38.005671Z",
     "iopub.status.idle": "2022-09-19T17:51:38.009646Z",
     "shell.execute_reply": "2022-09-19T17:51:38.008893Z"
    },
    "papermill": {
     "duration": 0.02948,
     "end_time": "2022-09-19T17:51:38.011841",
     "exception": false,
     "start_time": "2022-09-19T17:51:37.982361",
     "status": "completed"
    },
    "tags": []
   },
   "outputs": [],
   "source": [
    "# TV is the most correlated feature with Sales"
   ]
  },
  {
   "cell_type": "markdown",
   "id": "bcab44c7",
   "metadata": {
    "papermill": {
     "duration": 0.02107,
     "end_time": "2022-09-19T17:51:38.055115",
     "exception": false,
     "start_time": "2022-09-19T17:51:38.034045",
     "status": "completed"
    },
    "tags": []
   },
   "source": [
    "*Creating a linear model plot (using seaborn's lmplot method) of  Sale vs TV .*"
   ]
  },
  {
   "cell_type": "code",
   "execution_count": 59,
   "id": "f78011a8",
   "metadata": {
    "execution": {
     "iopub.execute_input": "2022-09-19T17:51:38.101512Z",
     "iopub.status.busy": "2022-09-19T17:51:38.100756Z",
     "iopub.status.idle": "2022-09-19T17:51:38.636386Z",
     "shell.execute_reply": "2022-09-19T17:51:38.635535Z"
    },
    "papermill": {
     "duration": 0.561318,
     "end_time": "2022-09-19T17:51:38.638621",
     "exception": false,
     "start_time": "2022-09-19T17:51:38.077303",
     "status": "completed"
    },
    "tags": []
   },
   "outputs": [
    {
     "data": {
      "text/plain": [
       "<seaborn.axisgrid.FacetGrid at 0x2184f74fdf0>"
      ]
     },
     "execution_count": 59,
     "metadata": {},
     "output_type": "execute_result"
    },
    {
     "data": {
      "image/png": "[encoded data removed]",
      "text/plain": [
       "<Figure size 360x360 with 1 Axes>"
      ]
     },
     "metadata": {
      "needs_background": "light"
     },
     "output_type": "display_data"
    }
   ],
   "source": [
    "sns.lmplot(x='TV',y='Sales',data=df)"
   ]
  },
  {
   "cell_type": "markdown",
   "id": "f482cd80",
   "metadata": {
    "papermill": {
     "duration": 0.022012,
     "end_time": "2022-09-19T17:51:38.683473",
     "exception": false,
     "start_time": "2022-09-19T17:51:38.661461",
     "status": "completed"
    },
    "tags": []
   },
   "source": [
    "---\n",
    "<a id='model'></a>\n",
    "## Model\n",
    "### Dependent and Independent variables\n",
    "\n",
    "*Set a variable X equal to the amounts spent on different adverts (features) and a variable y equal to the \"Sales\" column.*"
   ]
  },
  {
   "cell_type": "code",
   "execution_count": 60,
   "id": "9b0b5e8a",
   "metadata": {
    "execution": {
     "iopub.execute_input": "2022-09-19T17:51:38.728336Z",
     "iopub.status.busy": "2022-09-19T17:51:38.727874Z",
     "iopub.status.idle": "2022-09-19T17:51:38.733193Z",
     "shell.execute_reply": "2022-09-19T17:51:38.732010Z"
    },
    "papermill": {
     "duration": 0.030636,
     "end_time": "2022-09-19T17:51:38.735497",
     "exception": false,
     "start_time": "2022-09-19T17:51:38.704861",
     "status": "completed"
    },
    "tags": []
   },
   "outputs": [],
   "source": [
    "X = df.iloc[:,0:3]\n",
    "y = df['Sales'] #target variable"
   ]
  },
  {
   "cell_type": "markdown",
   "id": "84115807",
   "metadata": {
    "papermill": {
     "duration": 0.021349,
     "end_time": "2022-09-19T17:51:38.778715",
     "exception": false,
     "start_time": "2022-09-19T17:51:38.757366",
     "status": "completed"
    },
    "tags": []
   },
   "source": [
    "*To look at the correlation between each variable*"
   ]
  },
  {
   "cell_type": "code",
   "execution_count": 61,
   "id": "bacdbda7",
   "metadata": {
    "execution": {
     "iopub.execute_input": "2022-09-19T17:51:38.822765Z",
     "iopub.status.busy": "2022-09-19T17:51:38.822374Z",
     "iopub.status.idle": "2022-09-19T17:51:38.833752Z",
     "shell.execute_reply": "2022-09-19T17:51:38.832870Z"
    },
    "papermill": {
     "duration": 0.036303,
     "end_time": "2022-09-19T17:51:38.836222",
     "exception": false,
     "start_time": "2022-09-19T17:51:38.799919",
     "status": "completed"
    },
    "tags": []
   },
   "outputs": [
    {
     "data": {
      "text/html": [
       "<div>\n",
       "<style scoped>\n",
       "    .dataframe tbody tr th:only-of-type {\n",
       "        vertical-align: middle;\n",
       "    }\n",
       "\n",
       "    .dataframe tbody tr th {\n",
       "        vertical-align: top;\n",
       "    }\n",
       "\n",
       "    .dataframe thead th {\n",
       "        text-align: right;\n",
       "    }\n",
       "</style>\n",
       "<table border=\"1\" class=\"dataframe\">\n",
       "  <thead>\n",
       "    <tr style=\"text-align: right;\">\n",
       "      <th></th>\n",
       "      <th>TV</th>\n",
       "      <th>Radio</th>\n",
       "      <th>Newspaper</th>\n",
       "    </tr>\n",
       "  </thead>\n",
       "  <tbody>\n",
       "    <tr>\n",
       "      <th>TV</th>\n",
       "      <td>1.000000</td>\n",
       "      <td>0.054809</td>\n",
       "      <td>0.056648</td>\n",
       "    </tr>\n",
       "    <tr>\n",
       "      <th>Radio</th>\n",
       "      <td>0.054809</td>\n",
       "      <td>1.000000</td>\n",
       "      <td>0.354104</td>\n",
       "    </tr>\n",
       "    <tr>\n",
       "      <th>Newspaper</th>\n",
       "      <td>0.056648</td>\n",
       "      <td>0.354104</td>\n",
       "      <td>1.000000</td>\n",
       "    </tr>\n",
       "  </tbody>\n",
       "</table>\n",
       "</div>"
      ],
      "text/plain": [
       "                 TV     Radio  Newspaper\n",
       "TV         1.000000  0.054809   0.056648\n",
       "Radio      0.054809  1.000000   0.354104\n",
       "Newspaper  0.056648  0.354104   1.000000"
      ]
     },
     "execution_count": 61,
     "metadata": {},
     "output_type": "execute_result"
    }
   ],
   "source": [
    "X.iloc[:,0:].corr()"
   ]
  },
  {
   "cell_type": "markdown",
   "id": "3fb6d645",
   "metadata": {
    "papermill": {
     "duration": 0.02114,
     "end_time": "2022-09-19T17:51:38.879207",
     "exception": false,
     "start_time": "2022-09-19T17:51:38.858067",
     "status": "completed"
    },
    "tags": []
   },
   "source": [
    "*As we see; no exceptionally high correlation is observed, so won't be dropping any columns*"
   ]
  },
  {
   "cell_type": "markdown",
   "id": "9db99687",
   "metadata": {
    "papermill": {
     "duration": 0.021046,
     "end_time": "2022-09-19T17:51:38.922067",
     "exception": false,
     "start_time": "2022-09-19T17:51:38.901021",
     "status": "completed"
    },
    "tags": []
   },
   "source": [
    "### Viewing the OLS model"
   ]
  },
  {
   "cell_type": "markdown",
   "id": "1a1e07df",
   "metadata": {
    "papermill": {
     "duration": 0.021282,
     "end_time": "2022-09-19T17:51:38.964812",
     "exception": false,
     "start_time": "2022-09-19T17:51:38.943530",
     "status": "completed"
    },
    "tags": []
   },
   "source": [
    "*Importing the api for statistical models*"
   ]
  },
  {
   "cell_type": "code",
   "execution_count": 24,
   "id": "28fde656",
   "metadata": {
    "execution": {
     "iopub.execute_input": "2022-09-19T17:51:39.010068Z",
     "iopub.status.busy": "2022-09-19T17:51:39.009332Z",
     "iopub.status.idle": "2022-09-19T17:51:39.761430Z",
     "shell.execute_reply": "2022-09-19T17:51:39.759941Z"
    },
    "papermill": {
     "duration": 0.777764,
     "end_time": "2022-09-19T17:51:39.764060",
     "exception": false,
     "start_time": "2022-09-19T17:51:38.986296",
     "status": "completed"
    },
    "tags": []
   },
   "outputs": [],
   "source": [
    "import statsmodels.api as sm"
   ]
  },
  {
   "cell_type": "code",
   "execution_count": 62,
   "id": "5b281228",
   "metadata": {
    "execution": {
     "iopub.execute_input": "2022-09-19T17:51:39.810890Z",
     "iopub.status.busy": "2022-09-19T17:51:39.809792Z",
     "iopub.status.idle": "2022-09-19T17:51:39.836036Z",
     "shell.execute_reply": "2022-09-19T17:51:39.834868Z"
    },
    "papermill": {
     "duration": 0.051806,
     "end_time": "2022-09-19T17:51:39.838560",
     "exception": false,
     "start_time": "2022-09-19T17:51:39.786754",
     "status": "completed"
    },
    "scrolled": true,
    "tags": []
   },
   "outputs": [
    {
     "data": {
      "text/html": [
       "<table class=\"simpletable\">\n",
       "<caption>OLS Regression Results</caption>\n",
       "<tr>\n",
       "  <th>Dep. Variable:</th>          <td>Sales</td>      <th>  R-squared:         </th> <td>   0.903</td>\n",
       "</tr>\n",
       "<tr>\n",
       "  <th>Model:</th>                   <td>OLS</td>       <th>  Adj. R-squared:    </th> <td>   0.901</td>\n",
       "</tr>\n",
       "<tr>\n",
       "  <th>Method:</th>             <td>Least Squares</td>  <th>  F-statistic:       </th> <td>   605.4</td>\n",
       "</tr>\n",
       "<tr>\n",
       "  <th>Date:</th>             <td>Sun, 25 Jun 2023</td> <th>  Prob (F-statistic):</th> <td>8.13e-99</td>\n",
       "</tr>\n",
       "<tr>\n",
       "  <th>Time:</th>                 <td>18:22:43</td>     <th>  Log-Likelihood:    </th> <td> -383.34</td>\n",
       "</tr>\n",
       "<tr>\n",
       "  <th>No. Observations:</th>      <td>   200</td>      <th>  AIC:               </th> <td>   774.7</td>\n",
       "</tr>\n",
       "<tr>\n",
       "  <th>Df Residuals:</th>          <td>   196</td>      <th>  BIC:               </th> <td>   787.9</td>\n",
       "</tr>\n",
       "<tr>\n",
       "  <th>Df Model:</th>              <td>     3</td>      <th>                     </th>     <td> </td>   \n",
       "</tr>\n",
       "<tr>\n",
       "  <th>Covariance Type:</th>      <td>nonrobust</td>    <th>                     </th>     <td> </td>   \n",
       "</tr>\n",
       "</table>\n",
       "<table class=\"simpletable\">\n",
       "<tr>\n",
       "      <td></td>         <th>coef</th>     <th>std err</th>      <th>t</th>      <th>P>|t|</th>  <th>[0.025</th>    <th>0.975]</th>  \n",
       "</tr>\n",
       "<tr>\n",
       "  <th>const</th>     <td>    4.6251</td> <td>    0.308</td> <td>   15.041</td> <td> 0.000</td> <td>    4.019</td> <td>    5.232</td>\n",
       "</tr>\n",
       "<tr>\n",
       "  <th>TV</th>        <td>    0.0544</td> <td>    0.001</td> <td>   39.592</td> <td> 0.000</td> <td>    0.052</td> <td>    0.057</td>\n",
       "</tr>\n",
       "<tr>\n",
       "  <th>Radio</th>     <td>    0.1070</td> <td>    0.008</td> <td>   12.604</td> <td> 0.000</td> <td>    0.090</td> <td>    0.124</td>\n",
       "</tr>\n",
       "<tr>\n",
       "  <th>Newspaper</th> <td>    0.0003</td> <td>    0.006</td> <td>    0.058</td> <td> 0.954</td> <td>   -0.011</td> <td>    0.012</td>\n",
       "</tr>\n",
       "</table>\n",
       "<table class=\"simpletable\">\n",
       "<tr>\n",
       "  <th>Omnibus:</th>       <td>16.081</td> <th>  Durbin-Watson:     </th> <td>   2.251</td>\n",
       "</tr>\n",
       "<tr>\n",
       "  <th>Prob(Omnibus):</th> <td> 0.000</td> <th>  Jarque-Bera (JB):  </th> <td>  27.655</td>\n",
       "</tr>\n",
       "<tr>\n",
       "  <th>Skew:</th>          <td>-0.431</td> <th>  Prob(JB):          </th> <td>9.88e-07</td>\n",
       "</tr>\n",
       "<tr>\n",
       "  <th>Kurtosis:</th>      <td> 4.605</td> <th>  Cond. No.          </th> <td>    454.</td>\n",
       "</tr>\n",
       "</table><br/><br/>Notes:<br/>[1] Standard Errors assume that the covariance matrix of the errors is correctly specified."
      ],
      "text/plain": [
       "<class 'statsmodels.iolib.summary.Summary'>\n",
       "\"\"\"\n",
       "                            OLS Regression Results                            \n",
       "==============================================================================\n",
       "Dep. Variable:                  Sales   R-squared:                       0.903\n",
       "Model:                            OLS   Adj. R-squared:                  0.901\n",
       "Method:                 Least Squares   F-statistic:                     605.4\n",
       "Date:                Sun, 25 Jun 2023   Prob (F-statistic):           8.13e-99\n",
       "Time:                        18:22:43   Log-Likelihood:                -383.34\n",
       "No. Observations:                 200   AIC:                             774.7\n",
       "Df Residuals:                     196   BIC:                             787.9\n",
       "Df Model:                           3                                         \n",
       "Covariance Type:            nonrobust                                         \n",
       "==============================================================================\n",
       "                 coef    std err          t      P>|t|      [0.025      0.975]\n",
       "------------------------------------------------------------------------------\n",
       "const          4.6251      0.308     15.041      0.000       4.019       5.232\n",
       "TV             0.0544      0.001     39.592      0.000       0.052       0.057\n",
       "Radio          0.1070      0.008     12.604      0.000       0.090       0.124\n",
       "Newspaper      0.0003      0.006      0.058      0.954      -0.011       0.012\n",
       "==============================================================================\n",
       "Omnibus:                       16.081   Durbin-Watson:                   2.251\n",
       "Prob(Omnibus):                  0.000   Jarque-Bera (JB):               27.655\n",
       "Skew:                          -0.431   Prob(JB):                     9.88e-07\n",
       "Kurtosis:                       4.605   Cond. No.                         454.\n",
       "==============================================================================\n",
       "\n",
       "Notes:\n",
       "[1] Standard Errors assume that the covariance matrix of the errors is correctly specified.\n",
       "\"\"\""
      ]
     },
     "execution_count": 62,
     "metadata": {},
     "output_type": "execute_result"
    }
   ],
   "source": [
    "X_sm = sm.add_constant(X)\n",
    "ols_model = sm.OLS(y, X_sm).fit()\n",
    "ols_model.summary()"
   ]
  },
  {
   "cell_type": "markdown",
   "id": "014f4300",
   "metadata": {
    "papermill": {
     "duration": 0.022755,
     "end_time": "2022-09-19T17:51:39.884188",
     "exception": false,
     "start_time": "2022-09-19T17:51:39.861433",
     "status": "completed"
    },
    "tags": []
   },
   "source": [
    "***Observations:***\n",
    "\n",
    "*A good R<sup>2</sup> value is observed.*\n",
    "\n",
    "*The standard error values are low which indicates absence of a multi-colinearity relationship between the values*"
   ]
  },
  {
   "cell_type": "markdown",
   "id": "555dd527",
   "metadata": {
    "papermill": {
     "duration": 0.022868,
     "end_time": "2022-09-19T17:51:39.929811",
     "exception": false,
     "start_time": "2022-09-19T17:51:39.906943",
     "status": "completed"
    },
    "tags": []
   },
   "source": [
    "---\n",
    "<a id=\"testing&training\"></a>\n",
    "## Training the Model\n",
    "\n",
    "Now that we've explored the data a bit, we can go ahead and split the data into training and testing sets."
   ]
  },
  {
   "cell_type": "markdown",
   "id": "d4a1e8c4",
   "metadata": {
    "papermill": {
     "duration": 0.021343,
     "end_time": "2022-09-19T17:51:39.973179",
     "exception": false,
     "start_time": "2022-09-19T17:51:39.951836",
     "status": "completed"
    },
    "tags": []
   },
   "source": [
    "*Importing model_selection.train_test_split from sklearn to split the data into training and testing sets.*"
   ]
  },
  {
   "cell_type": "code",
   "execution_count": 63,
   "id": "3472ea60",
   "metadata": {
    "execution": {
     "iopub.execute_input": "2022-09-19T17:51:40.018904Z",
     "iopub.status.busy": "2022-09-19T17:51:40.017857Z",
     "iopub.status.idle": "2022-09-19T17:51:40.143859Z",
     "shell.execute_reply": "2022-09-19T17:51:40.142777Z"
    },
    "papermill": {
     "duration": 0.151794,
     "end_time": "2022-09-19T17:51:40.146725",
     "exception": false,
     "start_time": "2022-09-19T17:51:39.994931",
     "status": "completed"
    },
    "tags": []
   },
   "outputs": [],
   "source": [
    "from sklearn.model_selection import train_test_split"
   ]
  },
  {
   "cell_type": "markdown",
   "id": "a2c83e63",
   "metadata": {
    "papermill": {
     "duration": 0.022182,
     "end_time": "2022-09-19T17:51:40.191387",
     "exception": false,
     "start_time": "2022-09-19T17:51:40.169205",
     "status": "completed"
    },
    "tags": []
   },
   "source": [
    "*Setting the test_size as 30%*"
   ]
  },
  {
   "cell_type": "code",
   "execution_count": 64,
   "id": "e757b4ac",
   "metadata": {
    "execution": {
     "iopub.execute_input": "2022-09-19T17:51:40.238054Z",
     "iopub.status.busy": "2022-09-19T17:51:40.237001Z",
     "iopub.status.idle": "2022-09-19T17:51:40.243431Z",
     "shell.execute_reply": "2022-09-19T17:51:40.242598Z"
    },
    "papermill": {
     "duration": 0.031917,
     "end_time": "2022-09-19T17:51:40.245513",
     "exception": false,
     "start_time": "2022-09-19T17:51:40.213596",
     "status": "completed"
    },
    "tags": []
   },
   "outputs": [],
   "source": [
    "X_train, X_test, y_train, y_test = train_test_split(X, y, test_size=0.3, random_state=101)"
   ]
  },
  {
   "cell_type": "markdown",
   "id": "2184a164",
   "metadata": {
    "papermill": {
     "duration": 0.021645,
     "end_time": "2022-09-19T17:51:40.289186",
     "exception": false,
     "start_time": "2022-09-19T17:51:40.267541",
     "status": "completed"
    },
    "tags": []
   },
   "source": [
    "*Importing the LinearRegression from sklearn.linear_model*"
   ]
  },
  {
   "cell_type": "code",
   "execution_count": 65,
   "id": "a5b56cb5",
   "metadata": {
    "execution": {
     "iopub.execute_input": "2022-09-19T17:51:40.335664Z",
     "iopub.status.busy": "2022-09-19T17:51:40.334526Z",
     "iopub.status.idle": "2022-09-19T17:51:40.407436Z",
     "shell.execute_reply": "2022-09-19T17:51:40.406307Z"
    },
    "papermill": {
     "duration": 0.098902,
     "end_time": "2022-09-19T17:51:40.410078",
     "exception": false,
     "start_time": "2022-09-19T17:51:40.311176",
     "status": "completed"
    },
    "tags": []
   },
   "outputs": [],
   "source": [
    "from sklearn.linear_model import LinearRegression "
   ]
  },
  {
   "cell_type": "markdown",
   "id": "91ebf4ed",
   "metadata": {
    "papermill": {
     "duration": 0.021807,
     "end_time": "2022-09-19T17:51:40.453843",
     "exception": false,
     "start_time": "2022-09-19T17:51:40.432036",
     "status": "completed"
    },
    "tags": []
   },
   "source": [
    "*Creating an instance of a LinearRegression() model named lm.*"
   ]
  },
  {
   "cell_type": "code",
   "execution_count": 66,
   "id": "1855f2c4",
   "metadata": {
    "execution": {
     "iopub.execute_input": "2022-09-19T17:51:40.499251Z",
     "iopub.status.busy": "2022-09-19T17:51:40.498088Z",
     "iopub.status.idle": "2022-09-19T17:51:40.503125Z",
     "shell.execute_reply": "2022-09-19T17:51:40.502273Z"
    },
    "papermill": {
     "duration": 0.029881,
     "end_time": "2022-09-19T17:51:40.505238",
     "exception": false,
     "start_time": "2022-09-19T17:51:40.475357",
     "status": "completed"
    },
    "tags": []
   },
   "outputs": [],
   "source": [
    "lr = LinearRegression()"
   ]
  },
  {
   "cell_type": "markdown",
   "id": "dd93788d",
   "metadata": {
    "papermill": {
     "duration": 0.021528,
     "end_time": "2022-09-19T17:51:40.548917",
     "exception": false,
     "start_time": "2022-09-19T17:51:40.527389",
     "status": "completed"
    },
    "tags": []
   },
   "source": [
    "*Train/fit lr on the training data.*"
   ]
  },
  {
   "cell_type": "code",
   "execution_count": 67,
   "id": "b09e77d6",
   "metadata": {
    "execution": {
     "iopub.execute_input": "2022-09-19T17:51:40.594183Z",
     "iopub.status.busy": "2022-09-19T17:51:40.593696Z",
     "iopub.status.idle": "2022-09-19T17:51:40.617062Z",
     "shell.execute_reply": "2022-09-19T17:51:40.615967Z"
    },
    "papermill": {
     "duration": 0.048818,
     "end_time": "2022-09-19T17:51:40.619248",
     "exception": false,
     "start_time": "2022-09-19T17:51:40.570430",
     "status": "completed"
    },
    "tags": []
   },
   "outputs": [
    {
     "data": {
      "text/plain": [
       "LinearRegression()"
      ]
     },
     "execution_count": 67,
     "metadata": {},
     "output_type": "execute_result"
    }
   ],
   "source": [
    "lr.fit(X_train,y_train)"
   ]
  },
  {
   "cell_type": "markdown",
   "id": "e088482c",
   "metadata": {
    "papermill": {
     "duration": 0.021807,
     "end_time": "2022-09-19T17:51:40.663300",
     "exception": false,
     "start_time": "2022-09-19T17:51:40.641493",
     "status": "completed"
    },
    "tags": []
   },
   "source": [
    "*The coefficients of the model*"
   ]
  },
  {
   "cell_type": "code",
   "execution_count": 68,
   "id": "f911618c",
   "metadata": {
    "execution": {
     "iopub.execute_input": "2022-09-19T17:51:40.708788Z",
     "iopub.status.busy": "2022-09-19T17:51:40.707769Z",
     "iopub.status.idle": "2022-09-19T17:51:40.718356Z",
     "shell.execute_reply": "2022-09-19T17:51:40.717105Z"
    },
    "papermill": {
     "duration": 0.036046,
     "end_time": "2022-09-19T17:51:40.721159",
     "exception": false,
     "start_time": "2022-09-19T17:51:40.685113",
     "status": "completed"
    },
    "scrolled": true,
    "tags": []
   },
   "outputs": [
    {
     "data": {
      "text/html": [
       "<div>\n",
       "<style scoped>\n",
       "    .dataframe tbody tr th:only-of-type {\n",
       "        vertical-align: middle;\n",
       "    }\n",
       "\n",
       "    .dataframe tbody tr th {\n",
       "        vertical-align: top;\n",
       "    }\n",
       "\n",
       "    .dataframe thead th {\n",
       "        text-align: right;\n",
       "    }\n",
       "</style>\n",
       "<table border=\"1\" class=\"dataframe\">\n",
       "  <thead>\n",
       "    <tr style=\"text-align: right;\">\n",
       "      <th></th>\n",
       "      <th>Coefficient</th>\n",
       "    </tr>\n",
       "  </thead>\n",
       "  <tbody>\n",
       "    <tr>\n",
       "      <th>TV</th>\n",
       "      <td>0.054930</td>\n",
       "    </tr>\n",
       "    <tr>\n",
       "      <th>Radio</th>\n",
       "      <td>0.109558</td>\n",
       "    </tr>\n",
       "    <tr>\n",
       "      <th>Newspaper</th>\n",
       "      <td>-0.006194</td>\n",
       "    </tr>\n",
       "  </tbody>\n",
       "</table>\n",
       "</div>"
      ],
      "text/plain": [
       "           Coefficient\n",
       "TV            0.054930\n",
       "Radio         0.109558\n",
       "Newspaper    -0.006194"
      ]
     },
     "execution_count": 68,
     "metadata": {},
     "output_type": "execute_result"
    }
   ],
   "source": [
    "coeff_df = pd.DataFrame(lr.coef_,X.columns,columns=['Coefficient'])\n",
    "coeff_df"
   ]
  },
  {
   "cell_type": "markdown",
   "id": "166fa3a2",
   "metadata": {
    "papermill": {
     "duration": 0.021555,
     "end_time": "2022-09-19T17:51:40.764768",
     "exception": false,
     "start_time": "2022-09-19T17:51:40.743213",
     "status": "completed"
    },
    "tags": []
   },
   "source": [
    "---\n",
    "## Predicting Test Data\n",
    "Now that we have fit/trained our model, we can evaluate its performance by predicting off the test values.\n",
    "\n",
    "*Use lr.predict() to predict off the X_test set of the data.*"
   ]
  },
  {
   "cell_type": "code",
   "execution_count": 69,
   "id": "0433d94e",
   "metadata": {
    "execution": {
     "iopub.execute_input": "2022-09-19T17:51:40.811176Z",
     "iopub.status.busy": "2022-09-19T17:51:40.809828Z",
     "iopub.status.idle": "2022-09-19T17:51:40.817000Z",
     "shell.execute_reply": "2022-09-19T17:51:40.816028Z"
    },
    "papermill": {
     "duration": 0.032755,
     "end_time": "2022-09-19T17:51:40.819282",
     "exception": false,
     "start_time": "2022-09-19T17:51:40.786527",
     "status": "completed"
    },
    "tags": []
   },
   "outputs": [],
   "source": [
    "predictions = lr.predict(X_test)"
   ]
  },
  {
   "cell_type": "markdown",
   "id": "39dd603d",
   "metadata": {
    "papermill": {
     "duration": 0.022176,
     "end_time": "2022-09-19T17:51:40.863805",
     "exception": false,
     "start_time": "2022-09-19T17:51:40.841629",
     "status": "completed"
    },
    "tags": []
   },
   "source": [
    "*Let's have some fun and try to  predict the sales of a company with their expenditure on ads*"
   ]
  },
  {
   "cell_type": "code",
   "execution_count": 70,
   "id": "af8c664d",
   "metadata": {
    "execution": {
     "iopub.execute_input": "2022-09-19T17:51:40.910702Z",
     "iopub.status.busy": "2022-09-19T17:51:40.910011Z",
     "iopub.status.idle": "2022-09-19T17:51:40.920159Z",
     "shell.execute_reply": "2022-09-19T17:51:40.919122Z"
    },
    "papermill": {
     "duration": 0.035656,
     "end_time": "2022-09-19T17:51:40.922215",
     "exception": false,
     "start_time": "2022-09-19T17:51:40.886559",
     "status": "completed"
    },
    "tags": []
   },
   "outputs": [
    {
     "data": {
      "text/plain": [
       "array([6.78774421])"
      ]
     },
     "execution_count": 70,
     "metadata": {},
     "output_type": "execute_result"
    }
   ],
   "source": [
    "lr_model = lr.fit(X, y)\n",
    "# company A spends the following values on advertising on different platforms; 20,10,11\n",
    "lr_model.predict([[20,10,11]])"
   ]
  },
  {
   "cell_type": "markdown",
   "id": "b4dd439e",
   "metadata": {
    "papermill": {
     "duration": 0.021558,
     "end_time": "2022-09-19T17:51:40.965750",
     "exception": false,
     "start_time": "2022-09-19T17:51:40.944192",
     "status": "completed"
    },
    "tags": []
   },
   "source": [
    "*Create a scatterplot of the real test values versus the predicted values.*"
   ]
  },
  {
   "cell_type": "code",
   "execution_count": 71,
   "id": "61af33c5",
   "metadata": {
    "execution": {
     "iopub.execute_input": "2022-09-19T17:51:41.011721Z",
     "iopub.status.busy": "2022-09-19T17:51:41.011316Z",
     "iopub.status.idle": "2022-09-19T17:51:41.278964Z",
     "shell.execute_reply": "2022-09-19T17:51:41.278079Z"
    },
    "papermill": {
     "duration": 0.293505,
     "end_time": "2022-09-19T17:51:41.281118",
     "exception": false,
     "start_time": "2022-09-19T17:51:40.987613",
     "status": "completed"
    },
    "tags": []
   },
   "outputs": [
    {
     "data": {
      "text/plain": [
       "Text(0, 0.5, 'Predicted Sales')"
      ]
     },
     "execution_count": 71,
     "metadata": {},
     "output_type": "execute_result"
    },
    {
     "data": {
      "image/png": "[encoded data removed]",
      "text/plain": [
       "<Figure size 432x288 with 1 Axes>"
      ]
     },
     "metadata": {
      "needs_background": "light"
     },
     "output_type": "display_data"
    }
   ],
   "source": [
    "plt.scatter(y_test,predictions)\n",
    "plt.xlabel('Actual Sales')\n",
    "plt.ylabel('Predicted Sales')"
   ]
  },
  {
   "cell_type": "markdown",
   "id": "60dd8d1a",
   "metadata": {
    "papermill": {
     "duration": 0.022575,
     "end_time": "2022-09-19T17:51:41.325989",
     "exception": false,
     "start_time": "2022-09-19T17:51:41.303414",
     "status": "completed"
    },
    "tags": []
   },
   "source": [
    "---\n",
    "\n",
    "<a id=\"evaluation\"></a>\n",
    "\n",
    "## Evaluating the Model\n",
    "\n",
    "We will now evaluate model performance by calculating the residual sum of squares and the explained variance score (R<sup>2</sup>)."
   ]
  },
  {
   "cell_type": "code",
   "execution_count": 72,
   "id": "b80ec3c5",
   "metadata": {
    "execution": {
     "iopub.execute_input": "2022-09-19T17:51:41.374232Z",
     "iopub.status.busy": "2022-09-19T17:51:41.373489Z",
     "iopub.status.idle": "2022-09-19T17:51:41.382320Z",
     "shell.execute_reply": "2022-09-19T17:51:41.381119Z"
    },
    "papermill": {
     "duration": 0.034937,
     "end_time": "2022-09-19T17:51:41.384456",
     "exception": false,
     "start_time": "2022-09-19T17:51:41.349519",
     "status": "completed"
    },
    "tags": []
   },
   "outputs": [
    {
     "name": "stdout",
     "output_type": "stream",
     "text": [
      "MAE   :  1.3731200698367851\n",
      "MSE   :  2.8685706338964962\n",
      "RMSE  :  1.6936855180040054\n",
      "R^2   :  0.9025912899684558\n"
     ]
    }
   ],
   "source": [
    "from sklearn import metrics\n",
    "\n",
    "print('MAE   : ', metrics.mean_absolute_error(y_test, predictions))\n",
    "print('MSE   : ', metrics.mean_squared_error(y_test, predictions))\n",
    "print('RMSE  : ', np.sqrt(metrics.mean_squared_error(y_test, predictions)))\n",
    "print('R^2   : ', ols_model.rsquared)"
   ]
  },
  {
   "cell_type": "markdown",
   "id": "be73c340",
   "metadata": {
    "papermill": {
     "duration": 0.022314,
     "end_time": "2022-09-19T17:51:41.430190",
     "exception": false,
     "start_time": "2022-09-19T17:51:41.407876",
     "status": "completed"
    },
    "tags": []
   },
   "source": [
    "## Residuals\n",
    "\n",
    "Now we'll explore the residuals to make sure everything was okay with our data. \n",
    "\n",
    "*Plot a histogram of the residuals, if it looks normally distributed, we're on the right track!*"
   ]
  },
  {
   "cell_type": "code",
   "execution_count": 73,
   "id": "e83cffb8",
   "metadata": {
    "execution": {
     "iopub.execute_input": "2022-09-19T17:51:41.477376Z",
     "iopub.status.busy": "2022-09-19T17:51:41.476168Z",
     "iopub.status.idle": "2022-09-19T17:51:41.481440Z",
     "shell.execute_reply": "2022-09-19T17:51:41.480497Z"
    },
    "papermill": {
     "duration": 0.031015,
     "end_time": "2022-09-19T17:51:41.483465",
     "exception": false,
     "start_time": "2022-09-19T17:51:41.452450",
     "status": "completed"
    },
    "tags": []
   },
   "outputs": [],
   "source": [
    "residuals = y_test-predictions"
   ]
  },
  {
   "cell_type": "code",
   "execution_count": 37,
   "id": "c5037288",
   "metadata": {
    "execution": {
     "iopub.execute_input": "2022-09-19T17:51:41.530279Z",
     "iopub.status.busy": "2022-09-19T17:51:41.529512Z",
     "iopub.status.idle": "2022-09-19T17:51:41.896351Z",
     "shell.execute_reply": "2022-09-19T17:51:41.895177Z"
    },
    "papermill": {
     "duration": 0.392817,
     "end_time": "2022-09-19T17:51:41.898630",
     "exception": false,
     "start_time": "2022-09-19T17:51:41.505813",
     "status": "completed"
    },
    "tags": []
   },
   "outputs": [
    {
     "data": {
      "text/plain": [
       "<AxesSubplot:xlabel='Sales', ylabel='Density'>"
      ]
     },
     "execution_count": 37,
     "metadata": {},
     "output_type": "execute_result"
    },
    {
     "data": {
      "image/png": "[encoded data removed]",
      "text/plain": [
       "<Figure size 432x288 with 1 Axes>"
      ]
     },
     "metadata": {},
     "output_type": "display_data"
    }
   ],
   "source": [
    "sns.distplot(residuals,bins=50)"
   ]
  },
  {
   "cell_type": "markdown",
   "id": "3ca13a34",
   "metadata": {
    "papermill": {
     "duration": 0.024013,
     "end_time": "2022-09-19T17:51:41.947535",
     "exception": false,
     "start_time": "2022-09-19T17:51:41.923522",
     "status": "completed"
    },
    "tags": []
   },
   "source": [
    "---\n",
    "<a id='conclusion'></a>\n",
    "## Conclusion\n",
    "We still want to figure out the answer to the original question, do they focus on TV, radio or newspaper ads. We interpret the coefficients to get an idea."
   ]
  },
  {
   "cell_type": "code",
   "execution_count": 74,
   "id": "2c0f97ee",
   "metadata": {
    "execution": {
     "iopub.execute_input": "2022-09-19T17:51:41.996077Z",
     "iopub.status.busy": "2022-09-19T17:51:41.995368Z",
     "iopub.status.idle": "2022-09-19T17:51:42.004067Z",
     "shell.execute_reply": "2022-09-19T17:51:42.003189Z"
    },
    "papermill": {
     "duration": 0.035604,
     "end_time": "2022-09-19T17:51:42.006191",
     "exception": false,
     "start_time": "2022-09-19T17:51:41.970587",
     "status": "completed"
    },
    "tags": []
   },
   "outputs": [
    {
     "data": {
      "text/html": [
       "<div>\n",
       "<style scoped>\n",
       "    .dataframe tbody tr th:only-of-type {\n",
       "        vertical-align: middle;\n",
       "    }\n",
       "\n",
       "    .dataframe tbody tr th {\n",
       "        vertical-align: top;\n",
       "    }\n",
       "\n",
       "    .dataframe thead th {\n",
       "        text-align: right;\n",
       "    }\n",
       "</style>\n",
       "<table border=\"1\" class=\"dataframe\">\n",
       "  <thead>\n",
       "    <tr style=\"text-align: right;\">\n",
       "      <th></th>\n",
       "      <th>Coefficient</th>\n",
       "    </tr>\n",
       "  </thead>\n",
       "  <tbody>\n",
       "    <tr>\n",
       "      <th>TV</th>\n",
       "      <td>0.054930</td>\n",
       "    </tr>\n",
       "    <tr>\n",
       "      <th>Radio</th>\n",
       "      <td>0.109558</td>\n",
       "    </tr>\n",
       "    <tr>\n",
       "      <th>Newspaper</th>\n",
       "      <td>-0.006194</td>\n",
       "    </tr>\n",
       "  </tbody>\n",
       "</table>\n",
       "</div>"
      ],
      "text/plain": [
       "           Coefficient\n",
       "TV            0.054930\n",
       "Radio         0.109558\n",
       "Newspaper    -0.006194"
      ]
     },
     "execution_count": 74,
     "metadata": {},
     "output_type": "execute_result"
    }
   ],
   "source": [
    "coeff_df"
   ]
  },
  {
   "cell_type": "markdown",
   "id": "e84cbfa1",
   "metadata": {
    "papermill": {
     "duration": 0.022768,
     "end_time": "2022-09-19T17:51:42.051845",
     "exception": false,
     "start_time": "2022-09-19T17:51:42.029077",
     "status": "completed"
    },
    "tags": []
   },
   "source": [
    "**How can we interpret these coefficients?**"
   ]
  },
  {
   "cell_type": "markdown",
   "id": "9219ebd6",
   "metadata": {
    "papermill": {
     "duration": 0.024347,
     "end_time": "2022-09-19T17:51:42.098916",
     "exception": false,
     "start_time": "2022-09-19T17:51:42.074569",
     "status": "completed"
    },
    "tags": []
   },
   "source": [
    "Interpreting the coefficients, holding all other features fixed;\n",
    "\n",
    "- a 1 unit increase in **TV ads** is associated with an **0.054930 increase in sales**.\n",
    "- a 1 unit increase in **Radio ads** is associated with a **0.109558 increase in sales**.\n",
    "- a 1 unit increase in **Newspaper** is associated with an **0.006194 decrease in sales**."
   ]
  },
  {
   "cell_type": "markdown",
   "id": "49ed8993",
   "metadata": {
    "papermill": {
     "duration": 0.027906,
     "end_time": "2022-09-19T17:51:42.154899",
     "exception": false,
     "start_time": "2022-09-19T17:51:42.126993",
     "status": "completed"
    },
    "tags": []
   },
   "source": [
    "*Should companies focus more on TV, radio, or newspaper ads?*"
   ]
  },
  {
   "cell_type": "markdown",
   "id": "e3844807",
   "metadata": {
    "papermill": {
     "duration": 0.023625,
     "end_time": "2022-09-19T17:51:42.207425",
     "exception": false,
     "start_time": "2022-09-19T17:51:42.183800",
     "status": "completed"
    },
    "tags": []
   },
   "source": [
    "**The companies should focus a bit more on promoting radio ads to see a largaer increase in sales.**"
   ]
  },
  {
   "cell_type": "markdown",
   "id": "958d07ae",
   "metadata": {
    "papermill": {
     "duration": 0.022916,
     "end_time": "2022-09-19T17:51:42.253731",
     "exception": false,
     "start_time": "2022-09-19T17:51:42.230815",
     "status": "completed"
    },
    "tags": []
   },
   "source": [
    "## Nice Job :-) \n",
    "\n",
    "We're done! The companies loved our insights! Let's move on*!!*"
   ]
  },
  {
   "cell_type": "code",
   "execution_count": 75,
   "id": "7e5f9f17",
   "metadata": {
    "papermill": {
     "duration": 0.022774,
     "end_time": "2022-09-19T17:51:42.299441",
     "exception": false,
     "start_time": "2022-09-19T17:51:42.276667",
     "status": "completed"
    },
    "tags": []
   },
   "outputs": [],
   "source": [
    "import pickle\n",
    "with open('model_pickle','wb') as f:\n",
    "    pickle.dump(lr,f)"
   ]
  },
  {
   "cell_type": "code",
   "execution_count": 76,
   "id": "3430ccd3",
   "metadata": {},
   "outputs": [],
   "source": [
    "with open('model_pickle','rb') as f:\n",
    "    mp=pickle.load(f)"
   ]
  },
  {
   "cell_type": "code",
   "execution_count": 77,
   "id": "8f272ebe",
   "metadata": {},
   "outputs": [
    {
     "name": "stdout",
     "output_type": "stream",
     "text": [
      "C:\\Users\\LIYAKATH ALI\n"
     ]
    }
   ],
   "source": [
    "from pathlib import Path\n",
    "print(Path.cwd())\n"
   ]
  },
  {
   "cell_type": "code",
   "execution_count": 88,
   "id": "02a6ec74",
   "metadata": {},
   "outputs": [
    {
     "data": {
      "text/plain": [
       "array([3214.66197124])"
      ]
     },
     "execution_count": 88,
     "metadata": {},
     "output_type": "execute_result"
    }
   ],
   "source": [
    "mp.predict([[0,30000,0]])"
   ]
  }
 ],
 "metadata": {
  "kernelspec": {
   "display_name": "Python 3 (ipykernel)",
   "language": "python",
   "name": "python3"
  },
  "language_info": {
   "codemirror_mode": {
    "name": "ipython",
    "version": 3
   },
   "file_extension": ".py",
   "mimetype": "text/x-python",
   "name": "python",
   "nbconvert_exporter": "python",
   "pygments_lexer": "ipython3",
   "version": "3.9.12"
  },
  "papermill": {
   "default_parameters": {},
   "duration": 22.923483,
   "end_time": "2022-09-19T17:51:43.144088",
   "environment_variables": {},
   "exception": null,
   "input_path": "__notebook__.ipynb",
   "output_path": "__notebook__.ipynb",
   "parameters": {},
   "start_time": "2022-09-19T17:51:20.220605",
   "version": "2.3.4"
  }
 },
 "nbformat": 4,
 "nbformat_minor": 5
}
